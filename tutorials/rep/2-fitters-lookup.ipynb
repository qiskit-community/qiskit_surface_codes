{
 "cells": [
  {
   "cell_type": "code",
   "execution_count": 1,
   "id": "cloudy-duncan",
   "metadata": {},
   "outputs": [],
   "source": [
    "%load_ext autoreload\n",
    "%autoreload 2"
   ]
  },
  {
   "cell_type": "code",
   "execution_count": 2,
   "id": "funky-certification",
   "metadata": {},
   "outputs": [],
   "source": [
    "import sys\n",
    "sys.path.insert(0, \"../../\")\n",
    "from qtcodes import RotatedDecoder\n",
    "from qtcodes import RepetitionQubit"
   ]
  },
  {
   "cell_type": "code",
   "execution_count": 3,
   "id": "favorite-exercise",
   "metadata": {},
   "outputs": [],
   "source": [
    "from qiskit.providers.aer.noise import NoiseModel\n",
    "from qiskit.providers.aer.noise.errors import pauli_error, depolarizing_error\n",
    "from qiskit import execute, Aer\n",
    "\n",
    "def get_noise_model(p_err):\n",
    "\n",
    "    error_gate1 = pauli_error([(\"X\", p_err / 2), (\"Z\", p_err / 2), (\"I\", 1 - p_err)])\n",
    "\n",
    "    noise_model = NoiseModel()\n",
    "    noise_model.add_all_qubit_quantum_error(error_gate1, \"id\")\n",
    "    return noise_model"
   ]
  },
  {
   "cell_type": "code",
   "execution_count": 4,
   "id": "metropolitan-screw",
   "metadata": {},
   "outputs": [],
   "source": [
    "p_err = 0.10\n",
    "shots = 10000\n",
    "def get_results(circ):\n",
    "    results = execute(circ, \n",
    "                      Aer.get_backend(\"aer_simulator\"), \n",
    "                      noise_model=get_noise_model(p_err),\n",
    "                      shots=shots,\n",
    "                     ).result().get_counts()\n",
    "    return results"
   ]
  },
  {
   "cell_type": "code",
   "execution_count": 5,
   "id": "unusual-stevens",
   "metadata": {},
   "outputs": [],
   "source": [
    "d = 3\n",
    "T = 1\n",
    "\n",
    "decoder = RotatedDecoder({\"d\":d,\"T\":T})"
   ]
  },
  {
   "cell_type": "code",
   "execution_count": 6,
   "id": "authentic-competition",
   "metadata": {},
   "outputs": [],
   "source": [
    "qubit = RepetitionQubit({'d':d})\n",
    "qubit.reset_z()\n",
    "qubit.stabilize()\n",
    "qubit.id_data()\n",
    "qubit.stabilize()\n",
    "qubit.readout_z()\n",
    "decoder.set_look_up_table(\"Z\",0,get_results(qubit.circ))\n",
    "\n",
    "qubit = RepetitionQubit({'d':d})\n",
    "qubit.reset_z()\n",
    "qubit.x()\n",
    "qubit.stabilize()\n",
    "qubit.id_data()\n",
    "qubit.stabilize()\n",
    "qubit.readout_z()\n",
    "decoder.set_look_up_table(\"Z\",1,get_results(qubit.circ))"
   ]
  },
  {
   "cell_type": "code",
   "execution_count": 7,
   "id": "designing-delta",
   "metadata": {},
   "outputs": [
    {
     "data": {
      "text/plain": [
       "{'X': {0: {}, 1: {}},\n",
       " 'Z': {0: {'0 01 00': 16,\n",
       "   '1 11 00': 24,\n",
       "   '1 10 00': 16,\n",
       "   '0 10 00': 492,\n",
       "   '0 11 00': 455,\n",
       "   '1 01 00': 434,\n",
       "   '1 00 00': 4,\n",
       "   '0 00 00': 8559},\n",
       "  1: {'1 01 00': 26,\n",
       "   '0 10 00': 17,\n",
       "   '0 11 00': 19,\n",
       "   '1 11 00': 464,\n",
       "   '0 01 00': 442,\n",
       "   '1 10 00': 454,\n",
       "   '0 00 00': 3,\n",
       "   '1 00 00': 8575}}}"
      ]
     },
     "execution_count": 7,
     "metadata": {},
     "output_type": "execute_result"
    }
   ],
   "source": [
    "decoder.look_up_table"
   ]
  },
  {
   "cell_type": "code",
   "execution_count": 8,
   "id": "industrial-incidence",
   "metadata": {},
   "outputs": [
    {
     "name": "stdout",
     "output_type": "stream",
     "text": [
      "[0.9434782608695652, 0.05652173913043478]\n"
     ]
    },
    {
     "data": {
      "text/plain": [
       "0"
      ]
     },
     "execution_count": 8,
     "metadata": {},
     "output_type": "execute_result"
    }
   ],
   "source": [
    "readout_string = \"1 01 00\"\n",
    "readout_type = \"Z\"\n",
    "print(decoder._run_look_up(readout_string, readout_type))\n",
    "decoder.correct_readout_look_up_table(readout_string, readout_type)"
   ]
  }
 ],
 "metadata": {
  "kernelspec": {
   "display_name": "Python 3",
   "language": "python",
   "name": "python3"
  },
  "language_info": {
   "codemirror_mode": {
    "name": "ipython",
    "version": 3
   },
   "file_extension": ".py",
   "mimetype": "text/x-python",
   "name": "python",
   "nbconvert_exporter": "python",
   "pygments_lexer": "ipython3",
   "version": "3.9.1"
  }
 },
 "nbformat": 4,
 "nbformat_minor": 5
}
